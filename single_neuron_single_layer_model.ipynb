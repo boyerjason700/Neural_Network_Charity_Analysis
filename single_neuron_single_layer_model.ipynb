{
 "cells": [
  {
   "cell_type": "code",
   "execution_count": 1,
   "id": "15162f18",
   "metadata": {},
   "outputs": [],
   "source": [
    "# Import our dependencies\n",
    "import pandas as pd\n",
    "import matplotlib as plt\n",
    "from sklearn.datasets import make_blobs\n",
    "import sklearn as skl\n",
    "import tensorflow as tf"
   ]
  },
  {
   "cell_type": "code",
   "execution_count": 2,
   "id": "f6066c1b",
   "metadata": {},
   "outputs": [
    {
     "data": {
      "text/plain": [
       "<AxesSubplot:xlabel='Feature 1', ylabel='Feature 2'>"
      ]
     },
     "execution_count": 2,
     "metadata": {},
     "output_type": "execute_result"
    },
    {
     "data": {
      "image/png": "[encoded data removed]",
      "text/plain": [
       "<Figure size 432x288 with 2 Axes>"
      ]
     },
     "metadata": {
      "needs_background": "light"
     },
     "output_type": "display_data"
    }
   ],
   "source": [
    "# Generate dummy dataset\n",
    "X, y = make_blobs(n_samples=1000, centers=2, n_features=2, random_state=78)\n",
    "\n",
    "# Creating a DataFrame with the dummy data\n",
    "df = pd.DataFrame(X, columns=[\"Feature 1\", \"Feature 2\"])\n",
    "df[\"Target\"] = y\n",
    "\n",
    "# Plotting the dummy data\n",
    "df.plot.scatter(x=\"Feature 1\", y=\"Feature 2\", c=\"Target\", colormap=\"winter\")"
   ]
  },
  {
   "cell_type": "code",
   "execution_count": 3,
   "id": "2518e34f",
   "metadata": {},
   "outputs": [],
   "source": [
    "# Use sklearn to split dataset\n",
    "from sklearn.model_selection import train_test_split\n",
    "X_train, X_test, y_train, y_test = train_test_split(X, y, random_state=78)"
   ]
  },
  {
   "cell_type": "code",
   "execution_count": 4,
   "id": "f2322e53",
   "metadata": {},
   "outputs": [],
   "source": [
    "# Create scaler instance\n",
    "X_scaler = skl.preprocessing.StandardScaler()\n",
    "\n",
    "# Fit the scaler\n",
    "X_scaler.fit(X_train)\n",
    "\n",
    "# Scale the data\n",
    "X_train_scaled = X_scaler.transform(X_train)\n",
    "X_test_scaled = X_scaler.transform(X_test)"
   ]
  },
  {
   "cell_type": "code",
   "execution_count": 5,
   "id": "2b50cae8",
   "metadata": {},
   "outputs": [],
   "source": [
    "# Create the Keras Sequential model\n",
    "nn_model = tf.keras.models.Sequential()"
   ]
  },
  {
   "cell_type": "code",
   "execution_count": 6,
   "id": "2cf07ab6",
   "metadata": {},
   "outputs": [],
   "source": [
    "# Add our first Dense layer, including the input layer\n",
    "nn_model.add(tf.keras.layers.Dense(units=1, activation=\"relu\", input_dim=2))"
   ]
  },
  {
   "cell_type": "code",
   "execution_count": 7,
   "id": "925ac99d",
   "metadata": {},
   "outputs": [],
   "source": [
    "# Add the output layer that uses a probability activation function\n",
    "nn_model.add(tf.keras.layers.Dense(units=1, activation=\"sigmoid\"))"
   ]
  },
  {
   "cell_type": "code",
   "execution_count": 8,
   "id": "b975cd5c",
   "metadata": {},
   "outputs": [
    {
     "name": "stdout",
     "output_type": "stream",
     "text": [
      "Model: \"sequential\"\n",
      "_________________________________________________________________\n",
      "Layer (type)                 Output Shape              Param #   \n",
      "=================================================================\n",
      "dense (Dense)                (None, 1)                 3         \n",
      "_________________________________________________________________\n",
      "dense_1 (Dense)              (None, 1)                 2         \n",
      "=================================================================\n",
      "Total params: 5\n",
      "Trainable params: 5\n",
      "Non-trainable params: 0\n",
      "_________________________________________________________________\n"
     ]
    }
   ],
   "source": [
    "# Check the structure of the Sequential model\n",
    "nn_model.summary()"
   ]
  },
  {
   "cell_type": "code",
   "execution_count": 9,
   "id": "e771475e",
   "metadata": {},
   "outputs": [],
   "source": [
    "# Compile the Sequential model together and customize metrics\n",
    "nn_model.compile(loss=\"binary_crossentropy\", optimizer=\"adam\", metrics=[\"accuracy\"])"
   ]
  },
  {
   "cell_type": "code",
   "execution_count": 10,
   "id": "4e14fd2c",
   "metadata": {},
   "outputs": [
    {
     "name": "stdout",
     "output_type": "stream",
     "text": [
      "Epoch 1/100\n",
      "24/24 [==============================] - 0s 607us/step - loss: 0.6919 - accuracy: 0.5653\n",
      "Epoch 2/100\n",
      "24/24 [==============================] - 0s 607us/step - loss: 0.6846 - accuracy: 0.5880\n",
      "Epoch 3/100\n",
      "24/24 [==============================] - 0s 607us/step - loss: 0.6777 - accuracy: 0.6000\n",
      "Epoch 4/100\n",
      "24/24 [==============================] - 0s 650us/step - loss: 0.6708 - accuracy: 0.6187\n",
      "Epoch 5/100\n",
      "24/24 [==============================] - 0s 694us/step - loss: 0.6637 - accuracy: 0.6387\n",
      "Epoch 6/100\n",
      "24/24 [==============================] - 0s 693us/step - loss: 0.6563 - accuracy: 0.6600\n",
      "Epoch 7/100\n",
      "24/24 [==============================] - 0s 607us/step - loss: 0.6485 - accuracy: 0.6760\n",
      "Epoch 8/100\n",
      "24/24 [==============================] - 0s 607us/step - loss: 0.6403 - accuracy: 0.6907\n",
      "Epoch 9/100\n",
      "24/24 [==============================] - 0s 607us/step - loss: 0.6318 - accuracy: 0.7067\n",
      "Epoch 10/100\n",
      "24/24 [==============================] - 0s 693us/step - loss: 0.6226 - accuracy: 0.7267\n",
      "Epoch 11/100\n",
      "24/24 [==============================] - 0s 608us/step - loss: 0.6132 - accuracy: 0.7373\n",
      "Epoch 12/100\n",
      "24/24 [==============================] - 0s 651us/step - loss: 0.6032 - accuracy: 0.7467\n",
      "Epoch 13/100\n",
      "24/24 [==============================] - 0s 694us/step - loss: 0.5930 - accuracy: 0.7600\n",
      "Epoch 14/100\n",
      "24/24 [==============================] - 0s 650us/step - loss: 0.5825 - accuracy: 0.7720\n",
      "Epoch 15/100\n",
      "24/24 [==============================] - 0s 694us/step - loss: 0.5717 - accuracy: 0.7840\n",
      "Epoch 16/100\n",
      "24/24 [==============================] - 0s 564us/step - loss: 0.5607 - accuracy: 0.7947\n",
      "Epoch 17/100\n",
      "24/24 [==============================] - 0s 607us/step - loss: 0.5497 - accuracy: 0.8107\n",
      "Epoch 18/100\n",
      "24/24 [==============================] - 0s 607us/step - loss: 0.5383 - accuracy: 0.8133\n",
      "Epoch 19/100\n",
      "24/24 [==============================] - 0s 565us/step - loss: 0.5272 - accuracy: 0.8280\n",
      "Epoch 20/100\n",
      "24/24 [==============================] - 0s 607us/step - loss: 0.5163 - accuracy: 0.8347\n",
      "Epoch 21/100\n",
      "24/24 [==============================] - 0s 607us/step - loss: 0.5054 - accuracy: 0.8427\n",
      "Epoch 22/100\n",
      "24/24 [==============================] - 0s 520us/step - loss: 0.4947 - accuracy: 0.8507\n",
      "Epoch 23/100\n",
      "24/24 [==============================] - 0s 607us/step - loss: 0.4840 - accuracy: 0.8547\n",
      "Epoch 24/100\n",
      "24/24 [==============================] - 0s 564us/step - loss: 0.4733 - accuracy: 0.8613\n",
      "Epoch 25/100\n",
      "24/24 [==============================] - 0s 607us/step - loss: 0.4628 - accuracy: 0.8693\n",
      "Epoch 26/100\n",
      "24/24 [==============================] - 0s 564us/step - loss: 0.4527 - accuracy: 0.8707\n",
      "Epoch 27/100\n",
      "24/24 [==============================] - 0s 564us/step - loss: 0.4427 - accuracy: 0.8747\n",
      "Epoch 28/100\n",
      "24/24 [==============================] - 0s 650us/step - loss: 0.4329 - accuracy: 0.8840\n",
      "Epoch 29/100\n",
      "24/24 [==============================] - 0s 607us/step - loss: 0.4233 - accuracy: 0.8853\n",
      "Epoch 30/100\n",
      "24/24 [==============================] - 0s 607us/step - loss: 0.4139 - accuracy: 0.8920\n",
      "Epoch 31/100\n",
      "24/24 [==============================] - 0s 608us/step - loss: 0.4048 - accuracy: 0.8960\n",
      "Epoch 32/100\n",
      "24/24 [==============================] - 0s 607us/step - loss: 0.3959 - accuracy: 0.9013\n",
      "Epoch 33/100\n",
      "24/24 [==============================] - 0s 608us/step - loss: 0.3874 - accuracy: 0.9107\n",
      "Epoch 34/100\n",
      "24/24 [==============================] - 0s 607us/step - loss: 0.3788 - accuracy: 0.9133\n",
      "Epoch 35/100\n",
      "24/24 [==============================] - 0s 650us/step - loss: 0.3705 - accuracy: 0.9147\n",
      "Epoch 36/100\n",
      "24/24 [==============================] - 0s 652us/step - loss: 0.3624 - accuracy: 0.9173\n",
      "Epoch 37/100\n",
      "24/24 [==============================] - 0s 650us/step - loss: 0.3544 - accuracy: 0.9213\n",
      "Epoch 38/100\n",
      "24/24 [==============================] - 0s 651us/step - loss: 0.3466 - accuracy: 0.9240\n",
      "Epoch 39/100\n",
      "24/24 [==============================] - 0s 607us/step - loss: 0.3390 - accuracy: 0.9267\n",
      "Epoch 40/100\n",
      "24/24 [==============================] - 0s 607us/step - loss: 0.3316 - accuracy: 0.9293\n",
      "Epoch 41/100\n",
      "24/24 [==============================] - 0s 607us/step - loss: 0.3241 - accuracy: 0.9307\n",
      "Epoch 42/100\n",
      "24/24 [==============================] - 0s 650us/step - loss: 0.3170 - accuracy: 0.9360\n",
      "Epoch 43/100\n",
      "24/24 [==============================] - 0s 564us/step - loss: 0.3100 - accuracy: 0.9387\n",
      "Epoch 44/100\n",
      "24/24 [==============================] - 0s 564us/step - loss: 0.3032 - accuracy: 0.9427\n",
      "Epoch 45/100\n",
      "24/24 [==============================] - 0s 607us/step - loss: 0.2964 - accuracy: 0.9453\n",
      "Epoch 46/100\n",
      "24/24 [==============================] - 0s 607us/step - loss: 0.2899 - accuracy: 0.9467\n",
      "Epoch 47/100\n",
      "24/24 [==============================] - 0s 607us/step - loss: 0.2834 - accuracy: 0.9480\n",
      "Epoch 48/100\n",
      "24/24 [==============================] - 0s 564us/step - loss: 0.2770 - accuracy: 0.9480\n",
      "Epoch 49/100\n",
      "24/24 [==============================] - 0s 607us/step - loss: 0.2707 - accuracy: 0.9493\n",
      "Epoch 50/100\n",
      "24/24 [==============================] - 0s 564us/step - loss: 0.2647 - accuracy: 0.9507\n",
      "Epoch 51/100\n",
      "24/24 [==============================] - 0s 564us/step - loss: 0.2586 - accuracy: 0.9533\n",
      "Epoch 52/100\n",
      "24/24 [==============================] - 0s 564us/step - loss: 0.2526 - accuracy: 0.9547\n",
      "Epoch 53/100\n",
      "24/24 [==============================] - 0s 607us/step - loss: 0.2468 - accuracy: 0.9560\n",
      "Epoch 54/100\n",
      "24/24 [==============================] - 0s 608us/step - loss: 0.2413 - accuracy: 0.9560\n",
      "Epoch 55/100\n",
      "24/24 [==============================] - 0s 564us/step - loss: 0.2358 - accuracy: 0.9600\n",
      "Epoch 56/100\n",
      "24/24 [==============================] - 0s 608us/step - loss: 0.2304 - accuracy: 0.9613\n",
      "Epoch 57/100\n",
      "24/24 [==============================] - 0s 607us/step - loss: 0.2252 - accuracy: 0.9627\n",
      "Epoch 58/100\n",
      "24/24 [==============================] - 0s 564us/step - loss: 0.2201 - accuracy: 0.9627\n",
      "Epoch 59/100\n",
      "24/24 [==============================] - 0s 607us/step - loss: 0.2151 - accuracy: 0.9640\n",
      "Epoch 60/100\n",
      "24/24 [==============================] - 0s 564us/step - loss: 0.2102 - accuracy: 0.9667\n",
      "Epoch 61/100\n",
      "24/24 [==============================] - 0s 607us/step - loss: 0.2053 - accuracy: 0.9680\n",
      "Epoch 62/100\n",
      "24/24 [==============================] - 0s 607us/step - loss: 0.2005 - accuracy: 0.9693\n",
      "Epoch 63/100\n",
      "24/24 [==============================] - 0s 520us/step - loss: 0.1958 - accuracy: 0.9720\n",
      "Epoch 64/100\n",
      "24/24 [==============================] - 0s 564us/step - loss: 0.1914 - accuracy: 0.9720\n",
      "Epoch 65/100\n",
      "24/24 [==============================] - 0s 607us/step - loss: 0.1870 - accuracy: 0.9773\n",
      "Epoch 66/100\n",
      "24/24 [==============================] - 0s 607us/step - loss: 0.1828 - accuracy: 0.9773\n",
      "Epoch 67/100\n",
      "24/24 [==============================] - 0s 520us/step - loss: 0.1786 - accuracy: 0.9773\n",
      "Epoch 68/100\n",
      "24/24 [==============================] - 0s 477us/step - loss: 0.1745 - accuracy: 0.9787\n",
      "Epoch 69/100\n",
      "24/24 [==============================] - 0s 520us/step - loss: 0.1706 - accuracy: 0.9813\n",
      "Epoch 70/100\n",
      "24/24 [==============================] - 0s 520us/step - loss: 0.1667 - accuracy: 0.9840\n",
      "Epoch 71/100\n",
      "24/24 [==============================] - 0s 520us/step - loss: 0.1630 - accuracy: 0.9853\n",
      "Epoch 72/100\n",
      "24/24 [==============================] - 0s 520us/step - loss: 0.1592 - accuracy: 0.9880\n",
      "Epoch 73/100\n",
      "24/24 [==============================] - 0s 520us/step - loss: 0.1558 - accuracy: 0.9893\n",
      "Epoch 74/100\n",
      "24/24 [==============================] - 0s 520us/step - loss: 0.1523 - accuracy: 0.9907\n",
      "Epoch 75/100\n",
      "24/24 [==============================] - 0s 520us/step - loss: 0.1489 - accuracy: 0.9907\n",
      "Epoch 76/100\n",
      "24/24 [==============================] - 0s 564us/step - loss: 0.1457 - accuracy: 0.9920\n",
      "Epoch 77/100\n",
      "24/24 [==============================] - 0s 564us/step - loss: 0.1425 - accuracy: 0.9920\n",
      "Epoch 78/100\n",
      "24/24 [==============================] - 0s 564us/step - loss: 0.1394 - accuracy: 0.9920\n",
      "Epoch 79/100\n",
      "24/24 [==============================] - 0s 477us/step - loss: 0.1365 - accuracy: 0.9933\n",
      "Epoch 80/100\n",
      "24/24 [==============================] - 0s 477us/step - loss: 0.1336 - accuracy: 0.9933\n",
      "Epoch 81/100\n"
     ]
    },
    {
     "name": "stdout",
     "output_type": "stream",
     "text": [
      "24/24 [==============================] - 0s 521us/step - loss: 0.1307 - accuracy: 0.9933\n",
      "Epoch 82/100\n",
      "24/24 [==============================] - 0s 520us/step - loss: 0.1280 - accuracy: 0.9933\n",
      "Epoch 83/100\n",
      "24/24 [==============================] - 0s 477us/step - loss: 0.1253 - accuracy: 0.9933\n",
      "Epoch 84/100\n",
      "24/24 [==============================] - 0s 477us/step - loss: 0.1227 - accuracy: 0.9947\n",
      "Epoch 85/100\n",
      "24/24 [==============================] - 0s 520us/step - loss: 0.1202 - accuracy: 0.9947\n",
      "Epoch 86/100\n",
      "24/24 [==============================] - 0s 434us/step - loss: 0.1178 - accuracy: 0.9960\n",
      "Epoch 87/100\n",
      "24/24 [==============================] - 0s 564us/step - loss: 0.1153 - accuracy: 0.9960\n",
      "Epoch 88/100\n",
      "24/24 [==============================] - 0s 564us/step - loss: 0.1130 - accuracy: 0.9960\n",
      "Epoch 89/100\n",
      "24/24 [==============================] - 0s 520us/step - loss: 0.1107 - accuracy: 0.9960\n",
      "Epoch 90/100\n",
      "24/24 [==============================] - 0s 477us/step - loss: 0.1085 - accuracy: 0.9960\n",
      "Epoch 91/100\n",
      "24/24 [==============================] - 0s 477us/step - loss: 0.1063 - accuracy: 0.9960\n",
      "Epoch 92/100\n",
      "24/24 [==============================] - 0s 520us/step - loss: 0.1042 - accuracy: 0.9960\n",
      "Epoch 93/100\n",
      "24/24 [==============================] - 0s 520us/step - loss: 0.1022 - accuracy: 0.9960\n",
      "Epoch 94/100\n",
      "24/24 [==============================] - 0s 564us/step - loss: 0.1002 - accuracy: 0.9960\n",
      "Epoch 95/100\n",
      "24/24 [==============================] - 0s 608us/step - loss: 0.0983 - accuracy: 0.9960\n",
      "Epoch 96/100\n",
      "24/24 [==============================] - 0s 564us/step - loss: 0.0964 - accuracy: 0.9960\n",
      "Epoch 97/100\n",
      "24/24 [==============================] - 0s 520us/step - loss: 0.0946 - accuracy: 0.9960\n",
      "Epoch 98/100\n",
      "24/24 [==============================] - 0s 477us/step - loss: 0.0928 - accuracy: 0.9960\n",
      "Epoch 99/100\n",
      "24/24 [==============================] - 0s 520us/step - loss: 0.0910 - accuracy: 0.9960\n",
      "Epoch 100/100\n",
      "24/24 [==============================] - 0s 520us/step - loss: 0.0894 - accuracy: 0.9960\n"
     ]
    }
   ],
   "source": [
    "# Fit the model to the training data\n",
    "fit_model = nn_model.fit(X_train_scaled, y_train, epochs=100)"
   ]
  },
  {
   "cell_type": "code",
   "execution_count": 11,
   "id": "c47383f1",
   "metadata": {},
   "outputs": [
    {
     "data": {
      "text/plain": [
       "<AxesSubplot:>"
      ]
     },
     "execution_count": 11,
     "metadata": {},
     "output_type": "execute_result"
    },
    {
     "data": {
      "image/png": "[encoded data removed]",
      "text/plain": [
       "<Figure size 432x288 with 1 Axes>"
      ]
     },
     "metadata": {
      "needs_background": "light"
     },
     "output_type": "display_data"
    }
   ],
   "source": [
    "# Create a DataFrame containing training history\n",
    "history_df = pd.DataFrame(fit_model.history, index=range(1,len(fit_model.history[\"loss\"])+1))\n",
    "\n",
    "# Plot the loss\n",
    "history_df.plot(y=\"loss\")"
   ]
  },
  {
   "cell_type": "code",
   "execution_count": 12,
   "id": "b12f76dd",
   "metadata": {},
   "outputs": [
    {
     "data": {
      "text/plain": [
       "<AxesSubplot:>"
      ]
     },
     "execution_count": 12,
     "metadata": {},
     "output_type": "execute_result"
    },
    {
     "data": {
      "image/png": "[encoded data removed]",
      "text/plain": [
       "<Figure size 432x288 with 1 Axes>"
      ]
     },
     "metadata": {
      "needs_background": "light"
     },
     "output_type": "display_data"
    }
   ],
   "source": [
    "# Plot the accuracy\n",
    "history_df.plot(y=\"accuracy\")"
   ]
  },
  {
   "cell_type": "code",
   "execution_count": 13,
   "id": "1563e8c8",
   "metadata": {},
   "outputs": [
    {
     "name": "stdout",
     "output_type": "stream",
     "text": [
      "8/8 - 0s - loss: 0.0884 - accuracy: 1.0000\n",
      "Loss: 0.08841066807508469, Accuracy: 1.0\n"
     ]
    }
   ],
   "source": [
    "# Evaluate the model using the test data\n",
    "model_loss, model_accuracy = nn_model.evaluate(X_test_scaled,y_test,verbose=2)\n",
    "print(f\"Loss: {model_loss}, Accuracy: {model_accuracy}\")"
   ]
  },
  {
   "cell_type": "code",
   "execution_count": 14,
   "id": "022cce13",
   "metadata": {},
   "outputs": [
    {
     "data": {
      "text/plain": [
       "array([[0],\n",
       "       [1],\n",
       "       [0],\n",
       "       [1],\n",
       "       [0],\n",
       "       [0],\n",
       "       [1],\n",
       "       [1],\n",
       "       [1],\n",
       "       [0]])"
      ]
     },
     "execution_count": 14,
     "metadata": {},
     "output_type": "execute_result"
    }
   ],
   "source": [
    "# Predict the classification of a new set of blob data\n",
    "new_X, new_Y = make_blobs(n_samples=10, centers=2, n_features=2, random_state=78)\n",
    "new_X_scaled = X_scaler.transform(new_X)\n",
    "(nn_model.predict(new_X_scaled) > 0.5).astype(\"int32\")"
   ]
  },
  {
   "cell_type": "code",
   "execution_count": 15,
   "id": "f5cecb15",
   "metadata": {},
   "outputs": [
    {
     "data": {
      "text/plain": [
       "array([[0],\n",
       "       [1],\n",
       "       [0],\n",
       "       [1],\n",
       "       [0],\n",
       "       [0],\n",
       "       [1],\n",
       "       [1],\n",
       "       [1],\n",
       "       [0]])"
      ]
     },
     "execution_count": 15,
     "metadata": {},
     "output_type": "execute_result"
    }
   ],
   "source": [
    "#predict the classification of a new set of blob data\n",
    "new_X, new_Y = make_blobs(n_samples=10, centers=2, n_features=2, random_state=78)\n",
    "\n",
    "new_X_scaled =X_scaler.transform(new_X)\n",
    "\n",
    "(nn_model.predict(new_X_scaled) > 0.5).astype(\"int32\")"
   ]
  },
  {
   "cell_type": "code",
   "execution_count": 16,
   "id": "3e07b2af",
   "metadata": {},
   "outputs": [
    {
     "data": {
      "text/plain": [
       "<AxesSubplot:xlabel='Feature 1', ylabel='Feature 2'>"
      ]
     },
     "execution_count": 16,
     "metadata": {},
     "output_type": "execute_result"
    },
    {
     "data": {
      "image/png": "[encoded data removed]",
      "text/plain": [
       "<Figure size 432x288 with 2 Axes>"
      ]
     },
     "metadata": {
      "needs_background": "light"
     },
     "output_type": "display_data"
    }
   ],
   "source": [
    "from sklearn.datasets import make_moons\n",
    "\n",
    "# Creating dummy nonlinear data\n",
    "X_moons, y_moons = make_moons(n_samples=1000, noise=0.08, random_state=78)\n",
    "\n",
    "# Transforming y_moons to a vertical vector\n",
    "y_moons = y_moons.reshape(-1, 1)\n",
    "\n",
    "# Creating a DataFrame to plot the nonlinear dummy data\n",
    "df_moons = pd.DataFrame(X_moons, columns=[\"Feature 1\", \"Feature 2\"])\n",
    "df_moons[\"Target\"] = y_moons\n",
    "\n",
    "# Plot the nonlinear dummy data\n",
    "df_moons.plot.scatter(x=\"Feature 1\",y=\"Feature 2\", c=\"Target\",colormap=\"winter\")"
   ]
  },
  {
   "cell_type": "code",
   "execution_count": 17,
   "id": "390a5e9b",
   "metadata": {},
   "outputs": [],
   "source": [
    "# Create training and testing sets\n",
    "X_moon_train, X_moon_test, y_moon_train, y_moon_test = train_test_split(\n",
    "    X_moons, y_moons, random_state=78\n",
    ")\n",
    "\n",
    "# Create the scaler instance\n",
    "X_moon_scaler = skl.preprocessing.StandardScaler()\n",
    "\n",
    "# Fit the scaler\n",
    "X_moon_scaler.fit(X_moon_train)\n",
    "\n",
    "# Scale the data\n",
    "X_moon_train_scaled = X_moon_scaler.transform(X_moon_train)\n",
    "X_moon_test_scaled = X_moon_scaler.transform(X_moon_test)"
   ]
  },
  {
   "cell_type": "code",
   "execution_count": 18,
   "id": "0c9856a1",
   "metadata": {},
   "outputs": [
    {
     "name": "stdout",
     "output_type": "stream",
     "text": [
      "Epoch 1/100\n",
      "24/24 [==============================] - 0s 867us/step - loss: 1.3363 - accuracy: 0.3707\n",
      "Epoch 2/100\n",
      "24/24 [==============================] - 0s 911us/step - loss: 1.1702 - accuracy: 0.3893\n",
      "Epoch 3/100\n",
      "24/24 [==============================] - 0s 911us/step - loss: 1.0574 - accuracy: 0.4213\n",
      "Epoch 4/100\n",
      "24/24 [==============================] - 0s 911us/step - loss: 0.9820 - accuracy: 0.4413\n",
      "Epoch 5/100\n",
      "24/24 [==============================] - 0s 909us/step - loss: 0.9259 - accuracy: 0.4600\n",
      "Epoch 6/100\n",
      "24/24 [==============================] - 0s 954us/step - loss: 0.8813 - accuracy: 0.4747\n",
      "Epoch 7/100\n",
      "24/24 [==============================] - 0s 867us/step - loss: 0.8431 - accuracy: 0.4893\n",
      "Epoch 8/100\n",
      "24/24 [==============================] - 0s 867us/step - loss: 0.8106 - accuracy: 0.5040\n",
      "Epoch 9/100\n",
      "24/24 [==============================] - 0s 954us/step - loss: 0.7816 - accuracy: 0.5147\n",
      "Epoch 10/100\n",
      "24/24 [==============================] - 0s 868us/step - loss: 0.7559 - accuracy: 0.5320\n",
      "Epoch 11/100\n",
      "24/24 [==============================] - 0s 911us/step - loss: 0.7314 - accuracy: 0.5533\n",
      "Epoch 12/100\n",
      "24/24 [==============================] - 0s 911us/step - loss: 0.7099 - accuracy: 0.5707\n",
      "Epoch 13/100\n",
      "24/24 [==============================] - 0s 912us/step - loss: 0.6896 - accuracy: 0.5800\n",
      "Epoch 14/100\n",
      "24/24 [==============================] - 0s 867us/step - loss: 0.6712 - accuracy: 0.5893\n",
      "Epoch 15/100\n",
      "24/24 [==============================] - 0s 780us/step - loss: 0.6534 - accuracy: 0.6000\n",
      "Epoch 16/100\n",
      "24/24 [==============================] - 0s 911us/step - loss: 0.6372 - accuracy: 0.6093\n",
      "Epoch 17/100\n",
      "24/24 [==============================] - 0s 911us/step - loss: 0.6223 - accuracy: 0.6267\n",
      "Epoch 18/100\n",
      "24/24 [==============================] - 0s 824us/step - loss: 0.6083 - accuracy: 0.6347\n",
      "Epoch 19/100\n",
      "24/24 [==============================] - 0s 911us/step - loss: 0.5950 - accuracy: 0.6400\n",
      "Epoch 20/100\n",
      "24/24 [==============================] - 0s 911us/step - loss: 0.5818 - accuracy: 0.6547\n",
      "Epoch 21/100\n",
      "24/24 [==============================] - 0s 954us/step - loss: 0.5694 - accuracy: 0.6613\n",
      "Epoch 22/100\n",
      "24/24 [==============================] - 0s 911us/step - loss: 0.5571 - accuracy: 0.6693\n",
      "Epoch 23/100\n",
      "24/24 [==============================] - 0s 911us/step - loss: 0.5453 - accuracy: 0.6733\n",
      "Epoch 24/100\n",
      "24/24 [==============================] - 0s 911us/step - loss: 0.5338 - accuracy: 0.6853\n",
      "Epoch 25/100\n",
      "24/24 [==============================] - 0s 911us/step - loss: 0.5228 - accuracy: 0.6907\n",
      "Epoch 26/100\n",
      "24/24 [==============================] - 0s 955us/step - loss: 0.5124 - accuracy: 0.7000\n",
      "Epoch 27/100\n",
      "24/24 [==============================] - ETA: 0s - loss: 0.6698 - accuracy: 0.56 - 0s 911us/step - loss: 0.5026 - accuracy: 0.7080\n",
      "Epoch 28/100\n",
      "24/24 [==============================] - 0s 954us/step - loss: 0.4926 - accuracy: 0.7147\n",
      "Epoch 29/100\n",
      "24/24 [==============================] - 0s 911us/step - loss: 0.4834 - accuracy: 0.7200\n",
      "Epoch 30/100\n",
      "24/24 [==============================] - 0s 911us/step - loss: 0.4746 - accuracy: 0.7267\n",
      "Epoch 31/100\n",
      "24/24 [==============================] - 0s 910us/step - loss: 0.4660 - accuracy: 0.7307\n",
      "Epoch 32/100\n",
      "24/24 [==============================] - 0s 867us/step - loss: 0.4580 - accuracy: 0.7400\n",
      "Epoch 33/100\n",
      "24/24 [==============================] - 0s 911us/step - loss: 0.4503 - accuracy: 0.7413\n",
      "Epoch 34/100\n",
      "24/24 [==============================] - 0s 910us/step - loss: 0.4428 - accuracy: 0.7453\n",
      "Epoch 35/100\n",
      "24/24 [==============================] - 0s 911us/step - loss: 0.4356 - accuracy: 0.7533\n",
      "Epoch 36/100\n",
      "24/24 [==============================] - 0s 911us/step - loss: 0.4288 - accuracy: 0.7667\n",
      "Epoch 37/100\n",
      "24/24 [==============================] - 0s 912us/step - loss: 0.4220 - accuracy: 0.7720\n",
      "Epoch 38/100\n",
      "24/24 [==============================] - 0s 911us/step - loss: 0.4156 - accuracy: 0.7760\n",
      "Epoch 39/100\n",
      "24/24 [==============================] - 0s 867us/step - loss: 0.4093 - accuracy: 0.7800\n",
      "Epoch 40/100\n",
      "24/24 [==============================] - 0s 997us/step - loss: 0.4033 - accuracy: 0.7840\n",
      "Epoch 41/100\n",
      "24/24 [==============================] - 0s 867us/step - loss: 0.3975 - accuracy: 0.7867\n",
      "Epoch 42/100\n",
      "24/24 [==============================] - 0s 912us/step - loss: 0.3917 - accuracy: 0.7907\n",
      "Epoch 43/100\n",
      "24/24 [==============================] - 0s 867us/step - loss: 0.3862 - accuracy: 0.7920\n",
      "Epoch 44/100\n",
      "24/24 [==============================] - 0s 954us/step - loss: 0.3807 - accuracy: 0.7960\n",
      "Epoch 45/100\n",
      "24/24 [==============================] - 0s 911us/step - loss: 0.3755 - accuracy: 0.8040\n",
      "Epoch 46/100\n",
      "24/24 [==============================] - 0s 824us/step - loss: 0.3703 - accuracy: 0.8107\n",
      "Epoch 47/100\n",
      "24/24 [==============================] - 0s 911us/step - loss: 0.3655 - accuracy: 0.8133\n",
      "Epoch 48/100\n",
      "24/24 [==============================] - 0s 911us/step - loss: 0.3607 - accuracy: 0.8200\n",
      "Epoch 49/100\n",
      "24/24 [==============================] - 0s 867us/step - loss: 0.3562 - accuracy: 0.8200\n",
      "Epoch 50/100\n",
      "24/24 [==============================] - 0s 867us/step - loss: 0.3519 - accuracy: 0.8240\n",
      "Epoch 51/100\n",
      "24/24 [==============================] - 0s 911us/step - loss: 0.3478 - accuracy: 0.8267\n",
      "Epoch 52/100\n",
      "24/24 [==============================] - 0s 954us/step - loss: 0.3440 - accuracy: 0.8267\n",
      "Epoch 53/100\n",
      "24/24 [==============================] - 0s 911us/step - loss: 0.3404 - accuracy: 0.8280\n",
      "Epoch 54/100\n",
      "24/24 [==============================] - 0s 867us/step - loss: 0.3370 - accuracy: 0.8307\n",
      "Epoch 55/100\n",
      "24/24 [==============================] - 0s 998us/step - loss: 0.3338 - accuracy: 0.8307\n",
      "Epoch 56/100\n",
      "24/24 [==============================] - 0s 867us/step - loss: 0.3308 - accuracy: 0.8320\n",
      "Epoch 57/100\n",
      "24/24 [==============================] - 0s 911us/step - loss: 0.3278 - accuracy: 0.8347\n",
      "Epoch 58/100\n",
      "24/24 [==============================] - 0s 867us/step - loss: 0.3251 - accuracy: 0.8373\n",
      "Epoch 59/100\n",
      "24/24 [==============================] - 0s 823us/step - loss: 0.3226 - accuracy: 0.8427\n",
      "Epoch 60/100\n",
      "24/24 [==============================] - 0s 912us/step - loss: 0.3200 - accuracy: 0.8453\n",
      "Epoch 61/100\n",
      "24/24 [==============================] - 0s 867us/step - loss: 0.3179 - accuracy: 0.8480\n",
      "Epoch 62/100\n",
      "24/24 [==============================] - 0s 823us/step - loss: 0.3155 - accuracy: 0.8520\n",
      "Epoch 63/100\n",
      "24/24 [==============================] - 0s 868us/step - loss: 0.3134 - accuracy: 0.8547\n",
      "Epoch 64/100\n",
      "24/24 [==============================] - 0s 954us/step - loss: 0.3113 - accuracy: 0.8560\n",
      "Epoch 65/100\n",
      "24/24 [==============================] - 0s 781us/step - loss: 0.3095 - accuracy: 0.8587\n",
      "Epoch 66/100\n",
      "24/24 [==============================] - 0s 954us/step - loss: 0.3075 - accuracy: 0.8640\n",
      "Epoch 67/100\n",
      "24/24 [==============================] - 0s 867us/step - loss: 0.3057 - accuracy: 0.8640\n",
      "Epoch 68/100\n",
      "24/24 [==============================] - 0s 824us/step - loss: 0.3039 - accuracy: 0.8640\n",
      "Epoch 69/100\n",
      "24/24 [==============================] - 0s 867us/step - loss: 0.3023 - accuracy: 0.8667\n",
      "Epoch 70/100\n",
      "24/24 [==============================] - 0s 825us/step - loss: 0.3006 - accuracy: 0.8667\n",
      "Epoch 71/100\n",
      "24/24 [==============================] - 0s 867us/step - loss: 0.2992 - accuracy: 0.8680\n",
      "Epoch 72/100\n",
      "24/24 [==============================] - 0s 824us/step - loss: 0.2976 - accuracy: 0.8680\n",
      "Epoch 73/100\n",
      "24/24 [==============================] - 0s 867us/step - loss: 0.2962 - accuracy: 0.8680\n",
      "Epoch 74/100\n",
      "24/24 [==============================] - 0s 911us/step - loss: 0.2949 - accuracy: 0.8680\n",
      "Epoch 75/100\n",
      "24/24 [==============================] - 0s 867us/step - loss: 0.2936 - accuracy: 0.8680\n",
      "Epoch 76/100\n",
      "24/24 [==============================] - 0s 867us/step - loss: 0.2924 - accuracy: 0.8707\n",
      "Epoch 77/100\n",
      "24/24 [==============================] - 0s 910us/step - loss: 0.2911 - accuracy: 0.8707\n",
      "Epoch 78/100\n",
      "24/24 [==============================] - 0s 867us/step - loss: 0.2899 - accuracy: 0.8747\n",
      "Epoch 79/100\n",
      "24/24 [==============================] - 0s 823us/step - loss: 0.2887 - accuracy: 0.8760\n",
      "Epoch 80/100\n",
      "24/24 [==============================] - 0s 867us/step - loss: 0.2877 - accuracy: 0.8760\n"
     ]
    },
    {
     "name": "stdout",
     "output_type": "stream",
     "text": [
      "Epoch 81/100\n",
      "24/24 [==============================] - 0s 868us/step - loss: 0.2865 - accuracy: 0.8773\n",
      "Epoch 82/100\n",
      "24/24 [==============================] - 0s 867us/step - loss: 0.2855 - accuracy: 0.8787\n",
      "Epoch 83/100\n",
      "24/24 [==============================] - 0s 823us/step - loss: 0.2845 - accuracy: 0.8787\n",
      "Epoch 84/100\n",
      "24/24 [==============================] - 0s 825us/step - loss: 0.2835 - accuracy: 0.8800\n",
      "Epoch 85/100\n",
      "24/24 [==============================] - 0s 869us/step - loss: 0.2826 - accuracy: 0.8800\n",
      "Epoch 86/100\n",
      "24/24 [==============================] - 0s 867us/step - loss: 0.2817 - accuracy: 0.8813\n",
      "Epoch 87/100\n",
      "24/24 [==============================] - 0s 824us/step - loss: 0.2808 - accuracy: 0.8813\n",
      "Epoch 88/100\n",
      "24/24 [==============================] - 0s 824us/step - loss: 0.2800 - accuracy: 0.8813\n",
      "Epoch 89/100\n",
      "24/24 [==============================] - 0s 825us/step - loss: 0.2791 - accuracy: 0.8813\n",
      "Epoch 90/100\n",
      "24/24 [==============================] - 0s 823us/step - loss: 0.2784 - accuracy: 0.8840\n",
      "Epoch 91/100\n",
      "24/24 [==============================] - 0s 867us/step - loss: 0.2776 - accuracy: 0.8840\n",
      "Epoch 92/100\n",
      "24/24 [==============================] - 0s 823us/step - loss: 0.2769 - accuracy: 0.8840\n",
      "Epoch 93/100\n",
      "24/24 [==============================] - 0s 824us/step - loss: 0.2761 - accuracy: 0.8840\n",
      "Epoch 94/100\n",
      "24/24 [==============================] - 0s 824us/step - loss: 0.2755 - accuracy: 0.8867\n",
      "Epoch 95/100\n",
      "24/24 [==============================] - 0s 782us/step - loss: 0.2749 - accuracy: 0.8853\n",
      "Epoch 96/100\n",
      "24/24 [==============================] - 0s 867us/step - loss: 0.2741 - accuracy: 0.8853\n",
      "Epoch 97/100\n",
      "24/24 [==============================] - 0s 825us/step - loss: 0.2736 - accuracy: 0.8853\n",
      "Epoch 98/100\n",
      "24/24 [==============================] - 0s 781us/step - loss: 0.2730 - accuracy: 0.8853\n",
      "Epoch 99/100\n",
      "24/24 [==============================] - 0s 824us/step - loss: 0.2724 - accuracy: 0.8853\n",
      "Epoch 100/100\n",
      "24/24 [==============================] - 0s 780us/step - loss: 0.2718 - accuracy: 0.8853\n"
     ]
    }
   ],
   "source": [
    "# Training the model with the nonlinear data\n",
    "model_moon = nn_model.fit(X_moon_train_scaled, y_moon_train, epochs=100, shuffle=True)"
   ]
  },
  {
   "cell_type": "code",
   "execution_count": 19,
   "id": "8416d61e",
   "metadata": {},
   "outputs": [
    {
     "data": {
      "text/plain": [
       "<AxesSubplot:>"
      ]
     },
     "execution_count": 19,
     "metadata": {},
     "output_type": "execute_result"
    },
    {
     "data": {
      "image/png": "[encoded data removed]",
      "text/plain": [
       "<Figure size 432x288 with 1 Axes>"
      ]
     },
     "metadata": {
      "needs_background": "light"
     },
     "output_type": "display_data"
    }
   ],
   "source": [
    "# Create a DataFrame containing training history\n",
    "history_df = pd.DataFrame(model_moon.history, index=range(1,len(model_moon.history[\"loss\"])+1))\n",
    "\n",
    "# Plot the loss\n",
    "history_df.plot(y=\"loss\")"
   ]
  },
  {
   "cell_type": "code",
   "execution_count": 20,
   "id": "05608ef8",
   "metadata": {},
   "outputs": [
    {
     "data": {
      "text/plain": [
       "<AxesSubplot:>"
      ]
     },
     "execution_count": 20,
     "metadata": {},
     "output_type": "execute_result"
    },
    {
     "data": {
      "image/png": "[encoded data removed]",
      "text/plain": [
       "<Figure size 432x288 with 1 Axes>"
      ]
     },
     "metadata": {
      "needs_background": "light"
     },
     "output_type": "display_data"
    }
   ],
   "source": [
    "# Plot the accuracy\n",
    "history_df.plot(y=\"accuracy\")"
   ]
  },
  {
   "cell_type": "code",
   "execution_count": null,
   "id": "61c8a958",
   "metadata": {},
   "outputs": [],
   "source": []
  }
 ],
 "metadata": {
  "kernelspec": {
   "display_name": "mlenv",
   "language": "python",
   "name": "mlenv"
  },
  "language_info": {
   "codemirror_mode": {
    "name": "ipython",
    "version": 3
   },
   "file_extension": ".py",
   "mimetype": "text/x-python",
   "name": "python",
   "nbconvert_exporter": "python",
   "pygments_lexer": "ipython3",
   "version": "3.7.10"
  }
 },
 "nbformat": 4,
 "nbformat_minor": 5
}
