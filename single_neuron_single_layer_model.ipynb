{
 "cells": [
  {
   "cell_type": "code",
   "execution_count": 1,
   "id": "15162f18",
   "metadata": {},
   "outputs": [],
   "source": [
    "# Import our dependencies\n",
    "import pandas as pd\n",
    "import matplotlib as plt\n",
    "from sklearn.datasets import make_blobs\n",
    "import sklearn as skl\n",
    "import tensorflow as tf"
   ]
  },
  {
   "cell_type": "code",
   "execution_count": 2,
   "id": "f6066c1b",
   "metadata": {},
   "outputs": [
    {
     "data": {
      "text/plain": [
       "<AxesSubplot:xlabel='Feature 1', ylabel='Feature 2'>"
      ]
     },
     "execution_count": 2,
     "metadata": {},
     "output_type": "execute_result"
    },
    {
     "data": {
      "image/png": "[encoded data removed]",
      "text/plain": [
       "<Figure size 432x288 with 2 Axes>"
      ]
     },
     "metadata": {
      "needs_background": "light"
     },
     "output_type": "display_data"
    }
   ],
   "source": [
    "# Generate dummy dataset\n",
    "X, y = make_blobs(n_samples=1000, centers=2, n_features=2, random_state=78)\n",
    "\n",
    "# Creating a DataFrame with the dummy data\n",
    "df = pd.DataFrame(X, columns=[\"Feature 1\", \"Feature 2\"])\n",
    "df[\"Target\"] = y\n",
    "\n",
    "# Plotting the dummy data\n",
    "df.plot.scatter(x=\"Feature 1\", y=\"Feature 2\", c=\"Target\", colormap=\"winter\")"
   ]
  },
  {
   "cell_type": "code",
   "execution_count": 3,
   "id": "2518e34f",
   "metadata": {},
   "outputs": [],
   "source": [
    "# Use sklearn to split dataset\n",
    "from sklearn.model_selection import train_test_split\n",
    "X_train, X_test, y_train, y_test = train_test_split(X, y, random_state=78)"
   ]
  },
  {
   "cell_type": "code",
   "execution_count": 4,
   "id": "f2322e53",
   "metadata": {},
   "outputs": [],
   "source": [
    "# Create scaler instance\n",
    "X_scaler = skl.preprocessing.StandardScaler()\n",
    "\n",
    "# Fit the scaler\n",
    "X_scaler.fit(X_train)\n",
    "\n",
    "# Scale the data\n",
    "X_train_scaled = X_scaler.transform(X_train)\n",
    "X_test_scaled = X_scaler.transform(X_test)"
   ]
  },
  {
   "cell_type": "code",
   "execution_count": 5,
   "id": "2b50cae8",
   "metadata": {},
   "outputs": [],
   "source": [
    "# Create the Keras Sequential model\n",
    "nn_model = tf.keras.models.Sequential()"
   ]
  },
  {
   "cell_type": "code",
   "execution_count": 6,
   "id": "2cf07ab6",
   "metadata": {},
   "outputs": [],
   "source": [
    "# Add our first Dense layer, including the input layer\n",
    "nn_model.add(tf.keras.layers.Dense(units=1, activation=\"relu\", input_dim=2))"
   ]
  },
  {
   "cell_type": "code",
   "execution_count": 7,
   "id": "925ac99d",
   "metadata": {},
   "outputs": [],
   "source": [
    "# Add the output layer that uses a probability activation function\n",
    "nn_model.add(tf.keras.layers.Dense(units=1, activation=\"sigmoid\"))"
   ]
  },
  {
   "cell_type": "code",
   "execution_count": 8,
   "id": "b975cd5c",
   "metadata": {},
   "outputs": [
    {
     "name": "stdout",
     "output_type": "stream",
     "text": [
      "Model: \"sequential\"\n",
      "_________________________________________________________________\n",
      "Layer (type)                 Output Shape              Param #   \n",
      "=================================================================\n",
      "dense (Dense)                (None, 1)                 3         \n",
      "_________________________________________________________________\n",
      "dense_1 (Dense)              (None, 1)                 2         \n",
      "=================================================================\n",
      "Total params: 5\n",
      "Trainable params: 5\n",
      "Non-trainable params: 0\n",
      "_________________________________________________________________\n"
     ]
    }
   ],
   "source": [
    "# Check the structure of the Sequential model\n",
    "nn_model.summary()"
   ]
  },
  {
   "cell_type": "code",
   "execution_count": 9,
   "id": "e771475e",
   "metadata": {},
   "outputs": [],
   "source": [
    "# Compile the Sequential model together and customize metrics\n",
    "nn_model.compile(loss=\"binary_crossentropy\", optimizer=\"adam\", metrics=[\"accuracy\"])"
   ]
  },
  {
   "cell_type": "code",
   "execution_count": 10,
   "id": "4e14fd2c",
   "metadata": {},
   "outputs": [
    {
     "name": "stdout",
     "output_type": "stream",
     "text": [
      "Epoch 1/100\n",
      "24/24 [==============================] - 0s 694us/step - loss: 0.5273 - accuracy: 0.9493\n",
      "Epoch 2/100\n",
      "24/24 [==============================] - 0s 695us/step - loss: 0.5142 - accuracy: 0.9493\n",
      "Epoch 3/100\n",
      "24/24 [==============================] - 0s 737us/step - loss: 0.5011 - accuracy: 0.9520\n",
      "Epoch 4/100\n",
      "24/24 [==============================] - 0s 694us/step - loss: 0.4884 - accuracy: 0.9560\n",
      "Epoch 5/100\n",
      "24/24 [==============================] - 0s 780us/step - loss: 0.4759 - accuracy: 0.9560\n",
      "Epoch 6/100\n",
      "24/24 [==============================] - 0s 779us/step - loss: 0.4638 - accuracy: 0.9600\n",
      "Epoch 7/100\n",
      "24/24 [==============================] - 0s 781us/step - loss: 0.4518 - accuracy: 0.9627\n",
      "Epoch 8/100\n",
      "24/24 [==============================] - 0s 824us/step - loss: 0.4402 - accuracy: 0.9653\n",
      "Epoch 9/100\n",
      "24/24 [==============================] - 0s 781us/step - loss: 0.4288 - accuracy: 0.9680\n",
      "Epoch 10/100\n",
      "24/24 [==============================] - 0s 782us/step - loss: 0.4178 - accuracy: 0.9680\n",
      "Epoch 11/100\n",
      "24/24 [==============================] - 0s 780us/step - loss: 0.4071 - accuracy: 0.9693\n",
      "Epoch 12/100\n",
      "24/24 [==============================] - 0s 781us/step - loss: 0.3968 - accuracy: 0.9733\n",
      "Epoch 13/100\n",
      "24/24 [==============================] - 0s 737us/step - loss: 0.3868 - accuracy: 0.9773\n",
      "Epoch 14/100\n",
      "24/24 [==============================] - 0s 780us/step - loss: 0.3772 - accuracy: 0.9787\n",
      "Epoch 15/100\n",
      "24/24 [==============================] - 0s 694us/step - loss: 0.3679 - accuracy: 0.9813\n",
      "Epoch 16/100\n",
      "24/24 [==============================] - 0s 694us/step - loss: 0.3588 - accuracy: 0.9813\n",
      "Epoch 17/100\n",
      "24/24 [==============================] - 0s 694us/step - loss: 0.3500 - accuracy: 0.9813\n",
      "Epoch 18/100\n",
      "24/24 [==============================] - 0s 738us/step - loss: 0.3417 - accuracy: 0.9813\n",
      "Epoch 19/100\n",
      "24/24 [==============================] - 0s 694us/step - loss: 0.3335 - accuracy: 0.9813\n",
      "Epoch 20/100\n",
      "24/24 [==============================] - 0s 737us/step - loss: 0.3255 - accuracy: 0.9840\n",
      "Epoch 21/100\n",
      "24/24 [==============================] - 0s 737us/step - loss: 0.3179 - accuracy: 0.9853\n",
      "Epoch 22/100\n",
      "24/24 [==============================] - 0s 737us/step - loss: 0.3105 - accuracy: 0.9853\n",
      "Epoch 23/100\n",
      "24/24 [==============================] - 0s 737us/step - loss: 0.3033 - accuracy: 0.9853\n",
      "Epoch 24/100\n",
      "24/24 [==============================] - 0s 781us/step - loss: 0.2962 - accuracy: 0.9853\n",
      "Epoch 25/100\n",
      "24/24 [==============================] - 0s 738us/step - loss: 0.2894 - accuracy: 0.9853\n",
      "Epoch 26/100\n",
      "24/24 [==============================] - 0s 738us/step - loss: 0.2828 - accuracy: 0.9867\n",
      "Epoch 27/100\n",
      "24/24 [==============================] - ETA: 0s - loss: 0.3019 - accuracy: 1.00 - 0s 782us/step - loss: 0.2763 - accuracy: 0.9867\n",
      "Epoch 28/100\n",
      "24/24 [==============================] - 0s 781us/step - loss: 0.2700 - accuracy: 0.9867\n",
      "Epoch 29/100\n",
      "24/24 [==============================] - 0s 737us/step - loss: 0.2639 - accuracy: 0.9867\n",
      "Epoch 30/100\n",
      "24/24 [==============================] - 0s 737us/step - loss: 0.2579 - accuracy: 0.9880\n",
      "Epoch 31/100\n",
      "24/24 [==============================] - 0s 695us/step - loss: 0.2522 - accuracy: 0.9880\n",
      "Epoch 32/100\n",
      "24/24 [==============================] - 0s 694us/step - loss: 0.2466 - accuracy: 0.9880\n",
      "Epoch 33/100\n",
      "24/24 [==============================] - 0s 737us/step - loss: 0.2412 - accuracy: 0.9880\n",
      "Epoch 34/100\n",
      "24/24 [==============================] - 0s 737us/step - loss: 0.2359 - accuracy: 0.9893\n",
      "Epoch 35/100\n",
      "24/24 [==============================] - 0s 737us/step - loss: 0.2308 - accuracy: 0.9907\n",
      "Epoch 36/100\n",
      "24/24 [==============================] - 0s 781us/step - loss: 0.2258 - accuracy: 0.9907\n",
      "Epoch 37/100\n",
      "24/24 [==============================] - 0s 737us/step - loss: 0.2210 - accuracy: 0.9933\n",
      "Epoch 38/100\n",
      "24/24 [==============================] - 0s 737us/step - loss: 0.2163 - accuracy: 0.9947\n",
      "Epoch 39/100\n",
      "24/24 [==============================] - 0s 737us/step - loss: 0.2117 - accuracy: 0.9947\n",
      "Epoch 40/100\n",
      "24/24 [==============================] - 0s 738us/step - loss: 0.2073 - accuracy: 0.9947\n",
      "Epoch 41/100\n",
      "24/24 [==============================] - 0s 737us/step - loss: 0.2030 - accuracy: 0.9960\n",
      "Epoch 42/100\n",
      "24/24 [==============================] - 0s 781us/step - loss: 0.1987 - accuracy: 0.9960\n",
      "Epoch 43/100\n",
      "24/24 [==============================] - 0s 737us/step - loss: 0.1947 - accuracy: 0.9960\n",
      "Epoch 44/100\n",
      "24/24 [==============================] - 0s 780us/step - loss: 0.1907 - accuracy: 0.9960\n",
      "Epoch 45/100\n",
      "24/24 [==============================] - 0s 738us/step - loss: 0.1868 - accuracy: 0.9960\n",
      "Epoch 46/100\n",
      "24/24 [==============================] - 0s 738us/step - loss: 0.1830 - accuracy: 0.9973\n",
      "Epoch 47/100\n",
      "24/24 [==============================] - 0s 737us/step - loss: 0.1794 - accuracy: 0.9973\n",
      "Epoch 48/100\n",
      "24/24 [==============================] - 0s 694us/step - loss: 0.1758 - accuracy: 0.9973\n",
      "Epoch 49/100\n",
      "24/24 [==============================] - 0s 693us/step - loss: 0.1724 - accuracy: 0.9973\n",
      "Epoch 50/100\n",
      "24/24 [==============================] - 0s 694us/step - loss: 0.1690 - accuracy: 0.9973\n",
      "Epoch 51/100\n",
      "24/24 [==============================] - 0s 737us/step - loss: 0.1658 - accuracy: 0.9987\n",
      "Epoch 52/100\n",
      "24/24 [==============================] - 0s 737us/step - loss: 0.1626 - accuracy: 0.9987\n",
      "Epoch 53/100\n",
      "24/24 [==============================] - 0s 737us/step - loss: 0.1594 - accuracy: 0.9987\n",
      "Epoch 54/100\n",
      "24/24 [==============================] - 0s 737us/step - loss: 0.1564 - accuracy: 0.9987\n",
      "Epoch 55/100\n",
      "24/24 [==============================] - 0s 824us/step - loss: 0.1534 - accuracy: 0.9987\n",
      "Epoch 56/100\n",
      "24/24 [==============================] - 0s 694us/step - loss: 0.1505 - accuracy: 1.0000\n",
      "Epoch 57/100\n",
      "24/24 [==============================] - 0s 650us/step - loss: 0.1477 - accuracy: 1.0000\n",
      "Epoch 58/100\n",
      "24/24 [==============================] - 0s 694us/step - loss: 0.1450 - accuracy: 1.0000\n",
      "Epoch 59/100\n",
      "24/24 [==============================] - 0s 737us/step - loss: 0.1423 - accuracy: 1.0000\n",
      "Epoch 60/100\n",
      "24/24 [==============================] - 0s 737us/step - loss: 0.1397 - accuracy: 1.0000\n",
      "Epoch 61/100\n",
      "24/24 [==============================] - 0s 737us/step - loss: 0.1372 - accuracy: 1.0000\n",
      "Epoch 62/100\n",
      "24/24 [==============================] - ETA: 0s - loss: 0.1141 - accuracy: 1.00 - 0s 781us/step - loss: 0.1348 - accuracy: 1.0000\n",
      "Epoch 63/100\n",
      "24/24 [==============================] - 0s 825us/step - loss: 0.1324 - accuracy: 1.0000\n",
      "Epoch 64/100\n",
      "24/24 [==============================] - 0s 780us/step - loss: 0.1300 - accuracy: 1.0000\n",
      "Epoch 65/100\n",
      "24/24 [==============================] - 0s 780us/step - loss: 0.1277 - accuracy: 1.0000\n",
      "Epoch 66/100\n",
      "24/24 [==============================] - 0s 780us/step - loss: 0.1255 - accuracy: 1.0000\n",
      "Epoch 67/100\n",
      "24/24 [==============================] - 0s 736us/step - loss: 0.1234 - accuracy: 1.0000\n",
      "Epoch 68/100\n",
      "24/24 [==============================] - 0s 694us/step - loss: 0.1212 - accuracy: 1.0000\n",
      "Epoch 69/100\n",
      "24/24 [==============================] - 0s 737us/step - loss: 0.1192 - accuracy: 1.0000\n",
      "Epoch 70/100\n",
      "24/24 [==============================] - 0s 694us/step - loss: 0.1171 - accuracy: 1.0000\n",
      "Epoch 71/100\n",
      "24/24 [==============================] - 0s 607us/step - loss: 0.1151 - accuracy: 1.0000\n",
      "Epoch 72/100\n",
      "24/24 [==============================] - 0s 651us/step - loss: 0.1132 - accuracy: 1.0000\n",
      "Epoch 73/100\n",
      "24/24 [==============================] - 0s 650us/step - loss: 0.1113 - accuracy: 1.0000\n",
      "Epoch 74/100\n",
      "24/24 [==============================] - 0s 694us/step - loss: 0.1095 - accuracy: 1.0000\n",
      "Epoch 75/100\n",
      "24/24 [==============================] - 0s 694us/step - loss: 0.1077 - accuracy: 1.0000\n",
      "Epoch 76/100\n",
      "24/24 [==============================] - 0s 694us/step - loss: 0.1059 - accuracy: 1.0000\n",
      "Epoch 77/100\n",
      "24/24 [==============================] - 0s 694us/step - loss: 0.1042 - accuracy: 1.0000\n",
      "Epoch 78/100\n",
      "24/24 [==============================] - 0s 652us/step - loss: 0.1025 - accuracy: 1.0000\n",
      "Epoch 79/100\n",
      "24/24 [==============================] - 0s 650us/step - loss: 0.1009 - accuracy: 1.0000\n",
      "Epoch 80/100\n"
     ]
    },
    {
     "name": "stdout",
     "output_type": "stream",
     "text": [
      "24/24 [==============================] - 0s 650us/step - loss: 0.0992 - accuracy: 1.0000\n",
      "Epoch 81/100\n",
      "24/24 [==============================] - 0s 650us/step - loss: 0.0976 - accuracy: 1.0000\n",
      "Epoch 82/100\n",
      "24/24 [==============================] - 0s 694us/step - loss: 0.0961 - accuracy: 1.0000\n",
      "Epoch 83/100\n",
      "24/24 [==============================] - 0s 737us/step - loss: 0.0946 - accuracy: 1.0000\n",
      "Epoch 84/100\n",
      "24/24 [==============================] - 0s 694us/step - loss: 0.0931 - accuracy: 1.0000\n",
      "Epoch 85/100\n",
      "24/24 [==============================] - 0s 651us/step - loss: 0.0916 - accuracy: 1.0000\n",
      "Epoch 86/100\n",
      "24/24 [==============================] - 0s 608us/step - loss: 0.0902 - accuracy: 1.0000\n",
      "Epoch 87/100\n",
      "24/24 [==============================] - 0s 737us/step - loss: 0.0888 - accuracy: 1.0000\n",
      "Epoch 88/100\n",
      "24/24 [==============================] - 0s 650us/step - loss: 0.0875 - accuracy: 1.0000\n",
      "Epoch 89/100\n",
      "24/24 [==============================] - 0s 694us/step - loss: 0.0861 - accuracy: 1.0000\n",
      "Epoch 90/100\n",
      "24/24 [==============================] - 0s 780us/step - loss: 0.0848 - accuracy: 1.0000\n",
      "Epoch 91/100\n",
      "24/24 [==============================] - 0s 694us/step - loss: 0.0836 - accuracy: 1.0000\n",
      "Epoch 92/100\n",
      "24/24 [==============================] - 0s 651us/step - loss: 0.0823 - accuracy: 1.0000\n",
      "Epoch 93/100\n",
      "24/24 [==============================] - 0s 694us/step - loss: 0.0811 - accuracy: 1.0000\n",
      "Epoch 94/100\n",
      "24/24 [==============================] - 0s 694us/step - loss: 0.0799 - accuracy: 1.0000\n",
      "Epoch 95/100\n",
      "24/24 [==============================] - 0s 695us/step - loss: 0.0787 - accuracy: 1.0000\n",
      "Epoch 96/100\n",
      "24/24 [==============================] - 0s 694us/step - loss: 0.0775 - accuracy: 1.0000\n",
      "Epoch 97/100\n",
      "24/24 [==============================] - 0s 694us/step - loss: 0.0764 - accuracy: 1.0000\n",
      "Epoch 98/100\n",
      "24/24 [==============================] - 0s 694us/step - loss: 0.0752 - accuracy: 1.0000\n",
      "Epoch 99/100\n",
      "24/24 [==============================] - 0s 694us/step - loss: 0.0741 - accuracy: 1.0000\n",
      "Epoch 100/100\n",
      "24/24 [==============================] - 0s 650us/step - loss: 0.0731 - accuracy: 1.0000\n"
     ]
    }
   ],
   "source": [
    "# Fit the model to the training data\n",
    "fit_model = nn_model.fit(X_train_scaled, y_train, epochs=100)"
   ]
  },
  {
   "cell_type": "code",
   "execution_count": 11,
   "id": "c47383f1",
   "metadata": {},
   "outputs": [
    {
     "data": {
      "text/plain": [
       "<AxesSubplot:>"
      ]
     },
     "execution_count": 11,
     "metadata": {},
     "output_type": "execute_result"
    },
    {
     "data": {
      "image/png": "[encoded data removed]",
      "text/plain": [
       "<Figure size 432x288 with 1 Axes>"
      ]
     },
     "metadata": {
      "needs_background": "light"
     },
     "output_type": "display_data"
    }
   ],
   "source": [
    "# Create a DataFrame containing training history\n",
    "history_df = pd.DataFrame(fit_model.history, index=range(1,len(fit_model.history[\"loss\"])+1))\n",
    "\n",
    "# Plot the loss\n",
    "history_df.plot(y=\"loss\")"
   ]
  },
  {
   "cell_type": "code",
   "execution_count": 12,
   "id": "b12f76dd",
   "metadata": {},
   "outputs": [
    {
     "data": {
      "text/plain": [
       "<AxesSubplot:>"
      ]
     },
     "execution_count": 12,
     "metadata": {},
     "output_type": "execute_result"
    },
    {
     "data": {
      "image/png": "[encoded data removed]",
      "text/plain": [
       "<Figure size 432x288 with 1 Axes>"
      ]
     },
     "metadata": {
      "needs_background": "light"
     },
     "output_type": "display_data"
    }
   ],
   "source": [
    "# Plot the accuracy\n",
    "history_df.plot(y=\"accuracy\")"
   ]
  },
  {
   "cell_type": "code",
   "execution_count": 13,
   "id": "1563e8c8",
   "metadata": {},
   "outputs": [
    {
     "name": "stdout",
     "output_type": "stream",
     "text": [
      "8/8 - 0s - loss: 0.0681 - accuracy: 1.0000\n",
      "Loss: 0.06808384507894516, Accuracy: 1.0\n"
     ]
    }
   ],
   "source": [
    "# Evaluate the model using the test data\n",
    "model_loss, model_accuracy = nn_model.evaluate(X_test_scaled,y_test,verbose=2)\n",
    "print(f\"Loss: {model_loss}, Accuracy: {model_accuracy}\")"
   ]
  },
  {
   "cell_type": "code",
   "execution_count": 14,
   "id": "022cce13",
   "metadata": {},
   "outputs": [
    {
     "data": {
      "text/plain": [
       "array([[0],\n",
       "       [1],\n",
       "       [0],\n",
       "       [1],\n",
       "       [0],\n",
       "       [0],\n",
       "       [1],\n",
       "       [1],\n",
       "       [1],\n",
       "       [0]])"
      ]
     },
     "execution_count": 14,
     "metadata": {},
     "output_type": "execute_result"
    }
   ],
   "source": [
    "# Predict the classification of a new set of blob data\n",
    "new_X, new_Y = make_blobs(n_samples=10, centers=2, n_features=2, random_state=78)\n",
    "new_X_scaled = X_scaler.transform(new_X)\n",
    "(nn_model.predict(new_X_scaled) > 0.5).astype(\"int32\")"
   ]
  },
  {
   "cell_type": "code",
   "execution_count": 15,
   "id": "f5cecb15",
   "metadata": {},
   "outputs": [
    {
     "data": {
      "text/plain": [
       "array([[0],\n",
       "       [1],\n",
       "       [0],\n",
       "       [1],\n",
       "       [0],\n",
       "       [0],\n",
       "       [1],\n",
       "       [1],\n",
       "       [1],\n",
       "       [0]])"
      ]
     },
     "execution_count": 15,
     "metadata": {},
     "output_type": "execute_result"
    }
   ],
   "source": [
    "#predict the classification of a new set of blob data\n",
    "new_X, new_Y = make_blobs(n_samples=10, centers=2, n_features=2, random_state=78)\n",
    "\n",
    "new_X_scaled =X_scaler.transform(new_X)\n",
    "\n",
    "(nn_model.predict(new_X_scaled) > 0.5).astype(\"int32\")"
   ]
  },
  {
   "cell_type": "code",
   "execution_count": 16,
   "id": "3e07b2af",
   "metadata": {},
   "outputs": [
    {
     "data": {
      "text/plain": [
       "<AxesSubplot:xlabel='Feature 1', ylabel='Feature 2'>"
      ]
     },
     "execution_count": 16,
     "metadata": {},
     "output_type": "execute_result"
    },
    {
     "data": {
      "image/png": "[encoded data removed]",
      "text/plain": [
       "<Figure size 432x288 with 2 Axes>"
      ]
     },
     "metadata": {
      "needs_background": "light"
     },
     "output_type": "display_data"
    }
   ],
   "source": [
    "from sklearn.datasets import make_moons\n",
    "\n",
    "# Creating dummy nonlinear data\n",
    "X_moons, y_moons = make_moons(n_samples=1000, noise=0.08, random_state=78)\n",
    "\n",
    "# Transforming y_moons to a vertical vector\n",
    "y_moons = y_moons.reshape(-1, 1)\n",
    "\n",
    "# Creating a DataFrame to plot the nonlinear dummy data\n",
    "df_moons = pd.DataFrame(X_moons, columns=[\"Feature 1\", \"Feature 2\"])\n",
    "df_moons[\"Target\"] = y_moons\n",
    "\n",
    "# Plot the nonlinear dummy data\n",
    "df_moons.plot.scatter(x=\"Feature 1\",y=\"Feature 2\", c=\"Target\",colormap=\"winter\")"
   ]
  },
  {
   "cell_type": "code",
   "execution_count": 17,
   "id": "390a5e9b",
   "metadata": {},
   "outputs": [],
   "source": [
    "# Create training and testing sets\n",
    "X_moon_train, X_moon_test, y_moon_train, y_moon_test = train_test_split(\n",
    "    X_moons, y_moons, random_state=78\n",
    ")\n",
    "\n",
    "# Create the scaler instance\n",
    "X_moon_scaler = skl.preprocessing.StandardScaler()\n",
    "\n",
    "# Fit the scaler\n",
    "X_moon_scaler.fit(X_moon_train)\n",
    "\n",
    "# Scale the data\n",
    "X_moon_train_scaled = X_moon_scaler.transform(X_moon_train)\n",
    "X_moon_test_scaled = X_moon_scaler.transform(X_moon_test)"
   ]
  },
  {
   "cell_type": "code",
   "execution_count": 18,
   "id": "0c9856a1",
   "metadata": {},
   "outputs": [
    {
     "name": "stdout",
     "output_type": "stream",
     "text": [
      "Epoch 1/100\n",
      "24/24 [==============================] - 0s 955us/step - loss: 1.1084 - accuracy: 0.4800\n",
      "Epoch 2/100\n",
      "24/24 [==============================] - ETA: 0s - loss: 0.7215 - accuracy: 0.65 - 0s 1ms/step - loss: 0.9438 - accuracy: 0.5160\n",
      "Epoch 3/100\n",
      "24/24 [==============================] - 0s 955us/step - loss: 0.8419 - accuracy: 0.5373\n",
      "Epoch 4/100\n",
      "24/24 [==============================] - 0s 1ms/step - loss: 0.7751 - accuracy: 0.5627\n",
      "Epoch 5/100\n",
      "24/24 [==============================] - 0s 1ms/step - loss: 0.7249 - accuracy: 0.5800\n",
      "Epoch 6/100\n",
      "24/24 [==============================] - 0s 1ms/step - loss: 0.6853 - accuracy: 0.5987\n",
      "Epoch 7/100\n",
      "24/24 [==============================] - 0s 1ms/step - loss: 0.6525 - accuracy: 0.6107\n",
      "Epoch 8/100\n",
      "24/24 [==============================] - 0s 997us/step - loss: 0.6223 - accuracy: 0.6267\n",
      "Epoch 9/100\n",
      "24/24 [==============================] - 0s 1ms/step - loss: 0.5958 - accuracy: 0.6373\n",
      "Epoch 10/100\n",
      "24/24 [==============================] - ETA: 0s - loss: 0.5888 - accuracy: 0.65 - 0s 1ms/step - loss: 0.5719 - accuracy: 0.6507\n",
      "Epoch 11/100\n",
      "24/24 [==============================] - 0s 1ms/step - loss: 0.5505 - accuracy: 0.6733\n",
      "Epoch 12/100\n",
      "24/24 [==============================] - 0s 1ms/step - loss: 0.5313 - accuracy: 0.6813\n",
      "Epoch 13/100\n",
      "24/24 [==============================] - 0s 954us/step - loss: 0.5134 - accuracy: 0.6880\n",
      "Epoch 14/100\n",
      "24/24 [==============================] - 0s 1ms/step - loss: 0.4972 - accuracy: 0.6933\n",
      "Epoch 15/100\n",
      "24/24 [==============================] - 0s 1ms/step - loss: 0.4823 - accuracy: 0.7080\n",
      "Epoch 16/100\n",
      "24/24 [==============================] - 0s 997us/step - loss: 0.4683 - accuracy: 0.7200\n",
      "Epoch 17/100\n",
      "24/24 [==============================] - 0s 1ms/step - loss: 0.4554 - accuracy: 0.7280\n",
      "Epoch 18/100\n",
      "24/24 [==============================] - ETA: 0s - loss: 0.4462 - accuracy: 0.71 - 0s 1ms/step - loss: 0.4437 - accuracy: 0.7440\n",
      "Epoch 19/100\n",
      "24/24 [==============================] - 0s 1ms/step - loss: 0.4325 - accuracy: 0.7493\n",
      "Epoch 20/100\n",
      "24/24 [==============================] - 0s 1ms/step - loss: 0.4224 - accuracy: 0.7573\n",
      "Epoch 21/100\n",
      "24/24 [==============================] - 0s 1ms/step - loss: 0.4124 - accuracy: 0.7693\n",
      "Epoch 22/100\n",
      "24/24 [==============================] - 0s 1ms/step - loss: 0.4033 - accuracy: 0.7787\n",
      "Epoch 23/100\n",
      "24/24 [==============================] - 0s 1ms/step - loss: 0.3945 - accuracy: 0.7813\n",
      "Epoch 24/100\n",
      "24/24 [==============================] - 0s 1ms/step - loss: 0.3863 - accuracy: 0.7867\n",
      "Epoch 25/100\n",
      "24/24 [==============================] - 0s 1ms/step - loss: 0.3786 - accuracy: 0.7907\n",
      "Epoch 26/100\n",
      "24/24 [==============================] - 0s 1ms/step - loss: 0.3714 - accuracy: 0.7987\n",
      "Epoch 27/100\n",
      "24/24 [==============================] - ETA: 0s - loss: 0.3496 - accuracy: 0.84 - 0s 997us/step - loss: 0.3643 - accuracy: 0.8000\n",
      "Epoch 28/100\n",
      "24/24 [==============================] - 0s 1ms/step - loss: 0.3579 - accuracy: 0.8067\n",
      "Epoch 29/100\n",
      "24/24 [==============================] - 0s 1ms/step - loss: 0.3519 - accuracy: 0.8147\n",
      "Epoch 30/100\n",
      "24/24 [==============================] - 0s 954us/step - loss: 0.3466 - accuracy: 0.8187\n",
      "Epoch 31/100\n",
      "24/24 [==============================] - 0s 1ms/step - loss: 0.3415 - accuracy: 0.8253\n",
      "Epoch 32/100\n",
      "24/24 [==============================] - 0s 998us/step - loss: 0.3371 - accuracy: 0.8293\n",
      "Epoch 33/100\n",
      "24/24 [==============================] - 0s 1ms/step - loss: 0.3328 - accuracy: 0.8413\n",
      "Epoch 34/100\n",
      "24/24 [==============================] - 0s 999us/step - loss: 0.3288 - accuracy: 0.8427\n",
      "Epoch 35/100\n",
      "24/24 [==============================] - 0s 1ms/step - loss: 0.3252 - accuracy: 0.8427\n",
      "Epoch 36/100\n",
      "24/24 [==============================] - 0s 1ms/step - loss: 0.3219 - accuracy: 0.8480\n",
      "Epoch 37/100\n",
      "24/24 [==============================] - 0s 997us/step - loss: 0.3187 - accuracy: 0.8520\n",
      "Epoch 38/100\n",
      "24/24 [==============================] - ETA: 0s - loss: 0.4181 - accuracy: 0.84 - 0s 1ms/step - loss: 0.3159 - accuracy: 0.8560\n",
      "Epoch 39/100\n",
      "24/24 [==============================] - 0s 997us/step - loss: 0.3130 - accuracy: 0.8573\n",
      "Epoch 40/100\n",
      "24/24 [==============================] - 0s 1ms/step - loss: 0.3105 - accuracy: 0.8600\n",
      "Epoch 41/100\n",
      "24/24 [==============================] - 0s 1ms/step - loss: 0.3081 - accuracy: 0.8640\n",
      "Epoch 42/100\n",
      "24/24 [==============================] - 0s 997us/step - loss: 0.3058 - accuracy: 0.8667\n",
      "Epoch 43/100\n",
      "24/24 [==============================] - 0s 998us/step - loss: 0.3037 - accuracy: 0.8667\n",
      "Epoch 44/100\n",
      "24/24 [==============================] - 0s 1ms/step - loss: 0.3015 - accuracy: 0.8667\n",
      "Epoch 45/100\n",
      "24/24 [==============================] - 0s 1ms/step - loss: 0.2996 - accuracy: 0.8680\n",
      "Epoch 46/100\n",
      "24/24 [==============================] - 0s 1ms/step - loss: 0.2978 - accuracy: 0.8693\n",
      "Epoch 47/100\n",
      "24/24 [==============================] - 0s 1ms/step - loss: 0.2961 - accuracy: 0.8707\n",
      "Epoch 48/100\n",
      "24/24 [==============================] - 0s 1ms/step - loss: 0.2943 - accuracy: 0.8707\n",
      "Epoch 49/100\n",
      "24/24 [==============================] - 0s 997us/step - loss: 0.2928 - accuracy: 0.8720\n",
      "Epoch 50/100\n",
      "24/24 [==============================] - 0s 1ms/step - loss: 0.2913 - accuracy: 0.8720\n",
      "Epoch 51/100\n",
      "24/24 [==============================] - 0s 1ms/step - loss: 0.2899 - accuracy: 0.8720\n",
      "Epoch 52/100\n",
      "24/24 [==============================] - 0s 1ms/step - loss: 0.2885 - accuracy: 0.8733\n",
      "Epoch 53/100\n",
      "24/24 [==============================] - 0s 1ms/step - loss: 0.2873 - accuracy: 0.8733\n",
      "Epoch 54/100\n",
      "24/24 [==============================] - 0s 1ms/step - loss: 0.2862 - accuracy: 0.8733\n",
      "Epoch 55/100\n",
      "24/24 [==============================] - ETA: 0s - loss: 0.2266 - accuracy: 0.93 - 0s 1ms/step - loss: 0.2849 - accuracy: 0.8747\n",
      "Epoch 56/100\n",
      "24/24 [==============================] - 0s 1ms/step - loss: 0.2838 - accuracy: 0.8760\n",
      "Epoch 57/100\n",
      "24/24 [==============================] - 0s 1ms/step - loss: 0.2828 - accuracy: 0.8760\n",
      "Epoch 58/100\n",
      "24/24 [==============================] - 0s 1ms/step - loss: 0.2819 - accuracy: 0.8787\n",
      "Epoch 59/100\n",
      "24/24 [==============================] - ETA: 0s - loss: 0.2693 - accuracy: 0.87 - 0s 997us/step - loss: 0.2808 - accuracy: 0.8813\n",
      "Epoch 60/100\n",
      "24/24 [==============================] - 0s 1ms/step - loss: 0.2799 - accuracy: 0.8813\n",
      "Epoch 61/100\n",
      "24/24 [==============================] - 0s 1ms/step - loss: 0.2790 - accuracy: 0.8827\n",
      "Epoch 62/100\n",
      "24/24 [==============================] - 0s 1ms/step - loss: 0.2781 - accuracy: 0.8827\n",
      "Epoch 63/100\n",
      "24/24 [==============================] - ETA: 0s - loss: 0.3957 - accuracy: 0.81 - 0s 1ms/step - loss: 0.2773 - accuracy: 0.8853\n",
      "Epoch 64/100\n",
      "24/24 [==============================] - 0s 1ms/step - loss: 0.2765 - accuracy: 0.8853\n",
      "Epoch 65/100\n",
      "24/24 [==============================] - 0s 997us/step - loss: 0.2757 - accuracy: 0.8880\n",
      "Epoch 66/100\n",
      "24/24 [==============================] - 0s 1ms/step - loss: 0.2749 - accuracy: 0.8880\n",
      "Epoch 67/100\n",
      "24/24 [==============================] - 0s 911us/step - loss: 0.2742 - accuracy: 0.8880\n",
      "Epoch 68/100\n",
      "24/24 [==============================] - 0s 997us/step - loss: 0.2735 - accuracy: 0.8893\n",
      "Epoch 69/100\n",
      "24/24 [==============================] - 0s 912us/step - loss: 0.2728 - accuracy: 0.8907\n",
      "Epoch 70/100\n",
      "24/24 [==============================] - 0s 954us/step - loss: 0.2722 - accuracy: 0.8907\n",
      "Epoch 71/100\n",
      "24/24 [==============================] - 0s 954us/step - loss: 0.2715 - accuracy: 0.8907\n",
      "Epoch 72/100\n",
      "24/24 [==============================] - 0s 997us/step - loss: 0.2709 - accuracy: 0.8907\n",
      "Epoch 73/100\n",
      "24/24 [==============================] - 0s 953us/step - loss: 0.2704 - accuracy: 0.8907\n",
      "Epoch 74/100\n",
      "24/24 [==============================] - 0s 954us/step - loss: 0.2699 - accuracy: 0.8933\n",
      "Epoch 75/100\n",
      "24/24 [==============================] - 0s 954us/step - loss: 0.2693 - accuracy: 0.8933\n",
      "Epoch 76/100\n",
      "24/24 [==============================] - 0s 997us/step - loss: 0.2688 - accuracy: 0.8933\n",
      "Epoch 77/100\n",
      "24/24 [==============================] - 0s 1ms/step - loss: 0.2682 - accuracy: 0.8933\n",
      "Epoch 78/100\n",
      "24/24 [==============================] - 0s 1ms/step - loss: 0.2678 - accuracy: 0.8933\n",
      "Epoch 79/100\n"
     ]
    },
    {
     "name": "stdout",
     "output_type": "stream",
     "text": [
      "24/24 [==============================] - 0s 954us/step - loss: 0.2674 - accuracy: 0.8933\n",
      "Epoch 80/100\n",
      "24/24 [==============================] - 0s 1ms/step - loss: 0.2669 - accuracy: 0.8933\n",
      "Epoch 81/100\n",
      "24/24 [==============================] - 0s 955us/step - loss: 0.2664 - accuracy: 0.8933\n",
      "Epoch 82/100\n",
      "24/24 [==============================] - 0s 911us/step - loss: 0.2660 - accuracy: 0.8933\n",
      "Epoch 83/100\n",
      "24/24 [==============================] - 0s 998us/step - loss: 0.2657 - accuracy: 0.8933\n",
      "Epoch 84/100\n",
      "24/24 [==============================] - 0s 1ms/step - loss: 0.2652 - accuracy: 0.8920\n",
      "Epoch 85/100\n",
      "24/24 [==============================] - 0s 1ms/step - loss: 0.2648 - accuracy: 0.8920\n",
      "Epoch 86/100\n",
      "24/24 [==============================] - 0s 997us/step - loss: 0.2644 - accuracy: 0.8920\n",
      "Epoch 87/100\n",
      "24/24 [==============================] - 0s 997us/step - loss: 0.2641 - accuracy: 0.8920\n",
      "Epoch 88/100\n",
      "24/24 [==============================] - 0s 953us/step - loss: 0.2638 - accuracy: 0.8920\n",
      "Epoch 89/100\n",
      "24/24 [==============================] - 0s 953us/step - loss: 0.2634 - accuracy: 0.8920\n",
      "Epoch 90/100\n",
      "24/24 [==============================] - 0s 954us/step - loss: 0.2631 - accuracy: 0.8920\n",
      "Epoch 91/100\n",
      "24/24 [==============================] - 0s 953us/step - loss: 0.2628 - accuracy: 0.8920\n",
      "Epoch 92/100\n",
      "24/24 [==============================] - 0s 954us/step - loss: 0.2624 - accuracy: 0.8907\n",
      "Epoch 93/100\n",
      "24/24 [==============================] - 0s 997us/step - loss: 0.2621 - accuracy: 0.8907\n",
      "Epoch 94/100\n",
      "24/24 [==============================] - 0s 955us/step - loss: 0.2619 - accuracy: 0.8907\n",
      "Epoch 95/100\n",
      "24/24 [==============================] - 0s 955us/step - loss: 0.2616 - accuracy: 0.8920\n",
      "Epoch 96/100\n",
      "24/24 [==============================] - 0s 955us/step - loss: 0.2613 - accuracy: 0.8920\n",
      "Epoch 97/100\n",
      "24/24 [==============================] - 0s 954us/step - loss: 0.2610 - accuracy: 0.8920\n",
      "Epoch 98/100\n",
      "24/24 [==============================] - 0s 998us/step - loss: 0.2607 - accuracy: 0.8920\n",
      "Epoch 99/100\n",
      "24/24 [==============================] - 0s 997us/step - loss: 0.2605 - accuracy: 0.8920\n",
      "Epoch 100/100\n",
      "24/24 [==============================] - 0s 997us/step - loss: 0.2602 - accuracy: 0.8920\n"
     ]
    }
   ],
   "source": [
    "# Training the model with the nonlinear data\n",
    "model_moon = nn_model.fit(X_moon_train_scaled, y_moon_train, epochs=100, shuffle=True)"
   ]
  },
  {
   "cell_type": "code",
   "execution_count": 19,
   "id": "8416d61e",
   "metadata": {},
   "outputs": [
    {
     "data": {
      "text/plain": [
       "<AxesSubplot:>"
      ]
     },
     "execution_count": 19,
     "metadata": {},
     "output_type": "execute_result"
    },
    {
     "data": {
      "image/png": "[encoded data removed]",
      "text/plain": [
       "<Figure size 432x288 with 1 Axes>"
      ]
     },
     "metadata": {
      "needs_background": "light"
     },
     "output_type": "display_data"
    }
   ],
   "source": [
    "# Create a DataFrame containing training history\n",
    "history_df = pd.DataFrame(model_moon.history, index=range(1,len(model_moon.history[\"loss\"])+1))\n",
    "\n",
    "# Plot the loss\n",
    "history_df.plot(y=\"loss\")"
   ]
  },
  {
   "cell_type": "code",
   "execution_count": 20,
   "id": "05608ef8",
   "metadata": {},
   "outputs": [
    {
     "data": {
      "text/plain": [
       "<AxesSubplot:>"
      ]
     },
     "execution_count": 20,
     "metadata": {},
     "output_type": "execute_result"
    },
    {
     "data": {
      "image/png": "[encoded data removed]",
      "text/plain": [
       "<Figure size 432x288 with 1 Axes>"
      ]
     },
     "metadata": {
      "needs_background": "light"
     },
     "output_type": "display_data"
    }
   ],
   "source": [
    "# Plot the accuracy\n",
    "history_df.plot(y=\"accuracy\")"
   ]
  },
  {
   "cell_type": "code",
   "execution_count": null,
   "id": "61c8a958",
   "metadata": {},
   "outputs": [],
   "source": []
  }
 ],
 "metadata": {
  "kernelspec": {
   "display_name": "mlenv",
   "language": "python",
   "name": "mlenv"
  },
  "language_info": {
   "codemirror_mode": {
    "name": "ipython",
    "version": 3
   },
   "file_extension": ".py",
   "mimetype": "text/x-python",
   "name": "python",
   "nbconvert_exporter": "python",
   "pygments_lexer": "ipython3",
   "version": "3.7.10"
  }
 },
 "nbformat": 4,
 "nbformat_minor": 5
}
